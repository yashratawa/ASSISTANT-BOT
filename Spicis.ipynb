{
 "cells": [
  {
   "cell_type": "code",
   "execution_count": 1,
   "metadata": {},
   "outputs": [],
   "source": [
    "import speech_recognition as sr\n",
    "from time import ctime\n",
    "import webbrowser\n",
    "import time\n",
    "import pyttsx3"
   ]
  },
  {
   "cell_type": "code",
   "execution_count": 2,
   "metadata": {},
   "outputs": [],
   "source": [
    "r = sr.Recognizer()"
   ]
  },
  {
   "cell_type": "code",
   "execution_count": null,
   "metadata": {},
   "outputs": [],
   "source": [
    "def audio_record(ask = False):\n",
    "    with sr.Microphone() as source:\n",
    "        audio = r.listen(source)\n",
    "        voice_data = ''\n",
    "        try:\n",
    "            voice_data = r.recognize_google(audio)\n",
    "        except sr.UnknownValueError:\n",
    "            print(\"sorry i did not get that\")\n",
    "        except sr.RequestError:\n",
    "            print(\"my speech service isn't ready\")\n",
    "        return voice_data\n",
    "    \n",
    "\n",
    "def respond(voice_data):\n",
    "    if(\"what is your name\") in voice_data:\n",
    "        print(\"my name is spicis\")\n",
    "    elif(\"how old are you\") in voice_data:\n",
    "        print(\"I am 2 months old\")\n",
    "    elif(\"what are your hobbies\") in voice_data:\n",
    "        print(\"i like to help my users.\")\n",
    "    elif(\"name the four directions\") in voice_data:\n",
    "        print(\"north, south, east, west\")\n",
    "    elif(\"what is the time now\") in voice_data:\n",
    "        print(ctime())\n",
    "    elif(\"search\") in voice_data:\n",
    "        search = audio_record(\"what do you want to search ? \")\n",
    "        url = ('https://google.com/search?q=' + search)\n",
    "        webbrowser.get().open(url)\n",
    "        print(\"here's what I found for you\" + search)\n",
    "    elif('exit') in voice_data:\n",
    "        exit()\n",
    "    elif(\"good afternoon\") in voice_data:\n",
    "        print(\"good afternoon!!\")\n",
    "    elif(\"good morning\") in voice_data:\n",
    "        print(\"good morning!!\")\n",
    "    elif(\"good evening\") in voice_data:\n",
    "        print(\"good evening\")\n",
    "    elif(\"open youtube\") in voice_data:\n",
    "        wennrwoser.open(\"youtube.com\")\n",
    "    elif(\"open stackoverflow\") in voice_data:\n",
    "        webbrowser.open(\"stackoverflow.com\")\n",
    "    elif(\"open google\") in voice_data:\n",
    "        webbrowser.open(\"google.com\")\n",
    "    elif(\"open amazon\") in voice_data:\n",
    "        webbrowser.open(\"amazon.in\")\n",
    "    \n",
    "    \n",
    "    \n",
    "    \n",
    "time.sleep(1)    \n",
    "print(\"how can i help you ? \")\n",
    "while(1):\n",
    "    voice_data = audio_record()\n",
    "    respond(voice_data)"
   ]
  },
  {
   "cell_type": "code",
   "execution_count": null,
   "metadata": {},
   "outputs": [],
   "source": []
  }
 ],
 "metadata": {
  "kernelspec": {
   "display_name": "Python 3",
   "language": "python",
   "name": "python3"
  },
  "language_info": {
   "codemirror_mode": {
    "name": "ipython",
    "version": 3
   },
   "file_extension": ".py",
   "mimetype": "text/x-python",
   "name": "python",
   "nbconvert_exporter": "python",
   "pygments_lexer": "ipython3",
   "version": "3.7.9"
  }
 },
 "nbformat": 4,
 "nbformat_minor": 4
}
